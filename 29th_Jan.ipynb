{
 "cells": [
  {
   "cell_type": "markdown",
   "id": "c9669728-ac4d-4056-9347-29257de3db16",
   "metadata": {},
   "source": [
    "Answers to the 29th Jan Assignment.\n",
    "1.Python Programming Language was developed by Guido van Rossum.\n",
    "\n",
    "2.Python supports multiple programming paradigms, including procedural, object-oriented, and functional programming.\n",
    "\n",
    "3.Yes, Python is case sensitive when dealing with identifiers. For example, \"my_variable\" and \"My_Variable\" are treated as different identifiers.\n",
    "\n",
    "4.The correct extension of a Python file is \".py\".\n",
    "\n",
    "5.Python code is interpreted, although it can be optionally compiled to bytecode (.pyc) files.\n",
    "\n",
    "6.Blocks of code in Python are defined using indentation. Examples include function definitions, loops (for, while), conditional statements (if, elif, else), and class definitions.\n",
    "\n",
    "7.The character \"#\" is used to give single-line comments in Python.\n",
    "\n",
    "8.Functions such as `sys.version`, `platform.python_version()`, and `sys.version_info` can help to find the version of Python that is currently being used.\n",
    "\n",
    "9.Python supports the creation of anonymous functions at runtime using a construct called \"lambda\" functions.\n",
    "\n",
    "10.\"pip\" stands for \"Pip Installs Packages\" in Python. It is a package management system used to install and manage software packages written in Python.\n",
    "\n",
    "11.Built-in functions in Python include print(), len(), range(), input(), type(), etc.\n",
    "\n",
    "12.The maximum possible length of an identifier in Python is implementation-dependent, but it is typically around 255 characters.\n",
    "\n",
    "13.Benefits of using Python include its simplicity, readability, extensive standard library, cross-platform compatibility, and wide range of third-party libraries and frameworks.\n",
    "\n",
    "14.Memory management in Python is handled by Python's memory manager, which uses a combination of reference counting and garbage collection.\n",
    "\n",
    "15.To install Python on Windows, you can download the installer from the official Python website (python.org) and run it. During installation, make sure to check the option to add Python to the system PATH variable. Alternatively, you can manually set the PATH variable to include the directory where Python is installed.\n",
    "\n",
    "16.Yes, indentation is required in Python to define blocks of code such as function bodies, loop bodies, and conditional statement bodies. Proper indentation helps to improve code readability and is a fundamental aspect of Python syntax."
   ]
  }
 ],
 "metadata": {
  "kernelspec": {
   "display_name": "Python 3 (ipykernel)",
   "language": "python",
   "name": "python3"
  },
  "language_info": {
   "codemirror_mode": {
    "name": "ipython",
    "version": 3
   },
   "file_extension": ".py",
   "mimetype": "text/x-python",
   "name": "python",
   "nbconvert_exporter": "python",
   "pygments_lexer": "ipython3",
   "version": "3.10.8"
  }
 },
 "nbformat": 4,
 "nbformat_minor": 5
}
