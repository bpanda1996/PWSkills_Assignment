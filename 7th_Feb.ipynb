{
 "cells": [
  {
   "cell_type": "code",
   "execution_count": 2,
   "id": "2f904d60-9112-47d6-8c44-c1821d5d594d",
   "metadata": {},
   "outputs": [
    {
     "name": "stdin",
     "output_type": "stream",
     "text": [
      "Enter a new password -  RiYa@#!123\n"
     ]
    },
    {
     "name": "stdout",
     "output_type": "stream",
     "text": [
      "Valid Password\n"
     ]
    }
   ],
   "source": [
    "#Q1.\n",
    "'''Password Check, 2 uppercase 2 lowercase 1 number 3 special 10 length'''\n",
    "def PassCheck(word):\n",
    "    up, lo, no, sp = 0, 0, 0, 0\n",
    "    if len(word) == 10 :\n",
    "        for i in word :\n",
    "            if ord(i) >= 65 and ord(i) <= 90:\n",
    "                up += 1\n",
    "            elif ord(i) >= 97 and ord(i) <= 122:\n",
    "                lo += 1\n",
    "            elif ord(i) >= 48 and ord(i) <= 57:\n",
    "                no += 1\n",
    "            elif (ord(i) >= 33 and ord(i) <= 47) or (ord(i)>=58 and ord(i)<=64) or (ord(i)>=91 and ord(i)<=95) or (ord(i)>=123 and ord(i)<=126):\n",
    "                sp += 1\n",
    "            else : pass\n",
    "    else : return \"Invalid Password\"\n",
    "    if up >= 2 and lo >= 2 and no >= 1 and sp >= 3:\n",
    "        return \"Valid Password\"\n",
    "    else : return \"Invalid Password\"\n",
    "pswd = input(\"Enter a new password - \")\n",
    "print(PassCheck(pswd))"
   ]
  },
  {
   "cell_type": "code",
   "execution_count": 3,
   "id": "1e16c244-7d1e-4832-a82c-08de930ca411",
   "metadata": {},
   "outputs": [],
   "source": [
    "#Q2:\n",
    "# Check if the string starts with a particular letter\n",
    "starts_with_A = lambda s: s.startswith('A')\n",
    "\n",
    "# Check if the string is numeric\n",
    "is_numeric = lambda s: s.isnumeric()\n",
    "\n",
    "# Sort a list of tuples having fruit names and their quantity\n",
    "fruits = [(\"mango\", 99), (\"orange\", 80), (\"grapes\", 1000)]\n",
    "sorted_fruits = sorted(fruits, key=lambda x: x[1])\n",
    "\n",
    "# Find the squares of numbers from 1 to 10\n",
    "squares = [x**2 for x in range(1, 11)]\n",
    "\n",
    "# Find the cube root of numbers from 1 to 10\n",
    "cube_roots = [x**(1/3) for x in range(1, 11)]\n",
    "\n",
    "# Check if a given number is even\n",
    "is_even = lambda n: n % 2 == 0\n",
    "\n",
    "# Filter odd numbers from the given list\n",
    "numbers = [1, 2, 3, 4, 5, 6, 7, 8, 9, 10]\n",
    "odd_numbers = list(filter(lambda x: x % 2 != 0, numbers))\n",
    "\n",
    "# Sort a list of integers into positive and negative integers lists\n",
    "ints = [1, 2, 3, 4, 5, 6, -1, -2, -3, -4, -5, 0]\n",
    "positive_ints = [x for x in ints if x > 0]\n",
    "negative_ints = [x for x in ints if x < 0]"
   ]
  }
 ],
 "metadata": {
  "kernelspec": {
   "display_name": "Python 3 (ipykernel)",
   "language": "python",
   "name": "python3"
  },
  "language_info": {
   "codemirror_mode": {
    "name": "ipython",
    "version": 3
   },
   "file_extension": ".py",
   "mimetype": "text/x-python",
   "name": "python",
   "nbconvert_exporter": "python",
   "pygments_lexer": "ipython3",
   "version": "3.10.8"
  }
 },
 "nbformat": 4,
 "nbformat_minor": 5
}
