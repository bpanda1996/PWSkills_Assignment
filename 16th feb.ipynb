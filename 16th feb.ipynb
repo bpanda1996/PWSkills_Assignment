{
 "cells": [
  {
   "cell_type": "markdown",
   "id": "c91fc75b-1de5-47ea-ab86-6f7b3dcfb659",
   "metadata": {},
   "source": [
    "Ans to Q1. \n",
    "Database: A database is a structured collection of data organized in a way that allows for efficient retrieval, storage, and manipulation of data. It provides mechanisms for defining, querying, updating, and managing data.\n",
    "\n",
    "SQL (Structured Query Language) databases: SQL databases are relational databases that store data in tables and use SQL as the standard language for managing and manipulating the data. They have a predefined schema, enforce strict data consistency, and support ACID (Atomicity, Consistency, Isolation, Durability) properties. Examples include MySQL, PostgreSQL, Oracle.\n",
    "\n",
    "NoSQL (Not Only SQL) databases: NoSQL databases are non-relational databases that provide flexible schemas and are designed for handling large volumes of unstructured or semi-structured data. They are horizontally scalable and offer high performance and availability. NoSQL databases use different data models such as document-oriented, key-value, columnar, and graph databases. Examples include MongoDB, Cassandra, Redis."
   ]
  },
  {
   "cell_type": "markdown",
   "id": "2e48684b-21f2-4895-b702-779bc34bd84b",
   "metadata": {},
   "source": [
    "Ans to Q2.\n",
    "DDL (Data Definition Language): DDL is a subset of SQL used to define the structure of the database. It includes commands like CREATE, DROP, ALTER, and TRUNCATE.\n",
    "CREATE: Used to create new database objects like tables, views, indexes, etc.\n",
    "DROP: Used to delete existing database objects.\n",
    "ALTER: Used to modify the structure of an existing database object.\n",
    "TRUNCATE: Used to remove all rows from a table while keeping the table structure intact.\n",
    "Example:"
   ]
  },
  {
   "cell_type": "code",
   "execution_count": null,
   "id": "38c5fb9c-810f-4a53-8f44-db21aea43e6c",
   "metadata": {},
   "outputs": [],
   "source": [
    "CREATE TABLE employees (\n",
    "    id INT PRIMARY KEY,\n",
    "    name VARCHAR(50),\n",
    "    age INT\n",
    ");\n",
    "\n",
    "ALTER TABLE employees ADD COLUMN salary DECIMAL(10, 2);\n",
    "\n",
    "DROP TABLE employees;\n",
    "\n",
    "TRUNCATE TABLE employees;"
   ]
  },
  {
   "cell_type": "markdown",
   "id": "2f798430-a890-4e52-bd61-c58750007de6",
   "metadata": {},
   "source": [
    "Ans to Q3.\n",
    "\n",
    "DML (Data Manipulation Language): DML is a subset of SQL used to manipulate data stored in the database. It includes commands like INSERT, UPDATE, and DELETE.\n",
    "INSERT: Used to insert new records into a table.\n",
    "UPDATE: Used to modify existing records in a table.\n",
    "DELETE: Used to delete existing records from a table.\n",
    "Example:"
   ]
  },
  {
   "cell_type": "code",
   "execution_count": null,
   "id": "97e7bfb6-60e3-4890-835b-05896b0283f4",
   "metadata": {},
   "outputs": [],
   "source": [
    "INSERT INTO employees (id, name, age) VALUES (1, 'John', 30);\n",
    "\n",
    "UPDATE employees SET age = 35 WHERE id = 1;\n",
    "\n",
    "DELETE FROM employees WHERE id = 1;"
   ]
  },
  {
   "cell_type": "markdown",
   "id": "0ee49ca6-69f1-4db7-8f27-d09d33a75afd",
   "metadata": {},
   "source": [
    "Ans to Q4.\n",
    "\n",
    "DQL (Data Query Language): DQL is a subset of SQL used to retrieve data from the database. It primarily consists of the SELECT statement.\n",
    "SELECT: Used to retrieve data from one or more tables based on specified criteria.\n",
    "Example:"
   ]
  },
  {
   "cell_type": "code",
   "execution_count": null,
   "id": "092bafb0-ca06-4859-80b8-3ae613b33edc",
   "metadata": {},
   "outputs": [],
   "source": [
    "SELECT * FROM employees WHERE age > 30;"
   ]
  },
  {
   "cell_type": "markdown",
   "id": "46c966d3-4c90-4a3f-b741-7951b336486b",
   "metadata": {},
   "source": [
    "Ans to Q5.\n",
    "\n",
    "Primary Key: A primary key is a column or a set of columns that uniquely identifies each row in a table. It ensures data integrity and enforces entity integrity by preventing duplicate and null values. Only one primary key can be defined for a table.\n",
    "Foreign Key: A foreign key is a column or a set of columns in one table that refers to the primary key in another table. It establishes a relationship between the two tables by enforcing referential integrity, ensuring that the values in the foreign key column(s) match the values in the primary key column(s) of the referenced table.\n"
   ]
  },
  {
   "cell_type": "code",
   "execution_count": null,
   "id": "a19c1795-052a-43c6-87c5-7c609c05a9eb",
   "metadata": {},
   "outputs": [],
   "source": []
  }
 ],
 "metadata": {
  "kernelspec": {
   "display_name": "Python 3 (ipykernel)",
   "language": "python",
   "name": "python3"
  },
  "language_info": {
   "codemirror_mode": {
    "name": "ipython",
    "version": 3
   },
   "file_extension": ".py",
   "mimetype": "text/x-python",
   "name": "python",
   "nbconvert_exporter": "python",
   "pygments_lexer": "ipython3",
   "version": "3.10.8"
  }
 },
 "nbformat": 4,
 "nbformat_minor": 5
}
