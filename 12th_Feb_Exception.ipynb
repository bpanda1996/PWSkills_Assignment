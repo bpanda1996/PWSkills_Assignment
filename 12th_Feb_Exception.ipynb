{
 "cells": [
  {
   "cell_type": "markdown",
   "id": "3ad4278e-af51-4cc8-a1b6-c16037ca4c68",
   "metadata": {},
   "source": [
    "Ans to Q1. \n",
    "An exception in Python is an event that disrupts the normal flow of a program's execution. It occurs when an error or unexpected condition is encountered during runtime, leading to the termination of the program if not handled properly. \n",
    "\n",
    "Exceptions are categorized based on their cause and can include errors such as division by zero (`ZeroDivisionError`), trying to access an index that is out of range (`IndexError`), or attempting to open a file that does not exist (`FileNotFoundError`).\n",
    "\n",
    "Difference between Exceptions and Syntax Errors:\n",
    "- Exceptions occur during the execution of a program, while syntax errors occur during the parsing stage before the execution begins.\n",
    "- Exceptions are runtime errors that disrupt the program's execution, while syntax errors are detected by the Python interpreter when it encounters invalid syntax in the code.\n",
    "- Exceptions are caused by factors such as invalid user input, unexpected conditions, or errors in the program's logic, while syntax errors are caused by violations of the language's grammar rules.\n",
    "- Exceptions can be caught and handled using try-except blocks to prevent the program from crashing, while syntax errors must be corrected in the code before the program can be executed successfully."
   ]
  },
  {
   "cell_type": "markdown",
   "id": "c4adf1b9-7a42-4147-ab21-d6e5a5edf17c",
   "metadata": {},
   "source": [
    "Ans to Q2. \n",
    "When an exception is not handled, it propagates up through the call stack until it reaches the top-level of the program, where it typically terminates the program abruptly. This can result in unexpected program behavior or crashes.\n",
    "Example:"
   ]
  },
  {
   "cell_type": "code",
   "execution_count": 3,
   "id": "700207f0-a8a9-457f-a99a-c7f26c3ae8ad",
   "metadata": {},
   "outputs": [
    {
     "ename": "ZeroDivisionError",
     "evalue": "division by zero",
     "output_type": "error",
     "traceback": [
      "\u001b[0;31m---------------------------------------------------------------------------\u001b[0m",
      "\u001b[0;31mZeroDivisionError\u001b[0m                         Traceback (most recent call last)",
      "Cell \u001b[0;32mIn[3], line 5\u001b[0m\n\u001b[1;32m      2\u001b[0m     \u001b[38;5;28;01mreturn\u001b[39;00m a \u001b[38;5;241m/\u001b[39m b\n\u001b[1;32m      4\u001b[0m \u001b[38;5;28;01mtry\u001b[39;00m:\n\u001b[0;32m----> 5\u001b[0m     result \u001b[38;5;241m=\u001b[39m \u001b[43mdivide\u001b[49m\u001b[43m(\u001b[49m\u001b[38;5;241;43m10\u001b[39;49m\u001b[43m,\u001b[49m\u001b[43m \u001b[49m\u001b[38;5;241;43m0\u001b[39;49m\u001b[43m)\u001b[49m  \u001b[38;5;66;03m# This will raise a ZeroDivisionError\u001b[39;00m\n\u001b[1;32m      6\u001b[0m     \u001b[38;5;28mprint\u001b[39m(\u001b[38;5;124m\"\u001b[39m\u001b[38;5;124mResult:\u001b[39m\u001b[38;5;124m\"\u001b[39m, result)  \u001b[38;5;66;03m# This line will not be executed\u001b[39;00m\n\u001b[1;32m      7\u001b[0m \u001b[38;5;28;01mexcept\u001b[39;00m \u001b[38;5;167;01mValueError\u001b[39;00m:\n",
      "Cell \u001b[0;32mIn[3], line 2\u001b[0m, in \u001b[0;36mdivide\u001b[0;34m(a, b)\u001b[0m\n\u001b[1;32m      1\u001b[0m \u001b[38;5;28;01mdef\u001b[39;00m \u001b[38;5;21mdivide\u001b[39m(a, b):\n\u001b[0;32m----> 2\u001b[0m     \u001b[38;5;28;01mreturn\u001b[39;00m \u001b[43ma\u001b[49m\u001b[43m \u001b[49m\u001b[38;5;241;43m/\u001b[39;49m\u001b[43m \u001b[49m\u001b[43mb\u001b[49m\n",
      "\u001b[0;31mZeroDivisionError\u001b[0m: division by zero"
     ]
    }
   ],
   "source": [
    "def divide(a, b):\n",
    "    return a / b\n",
    "\n",
    "try:\n",
    "    result = divide(10, 0)  # This will raise a ZeroDivisionError\n",
    "    print(\"Result:\", result)  # This line will not be executed\n",
    "except ValueError:\n",
    "    print(\"Oops! Value error occurred.\")"
   ]
  },
  {
   "cell_type": "markdown",
   "id": "6692578a-42c9-485f-80c0-3d54f3ce7bb6",
   "metadata": {},
   "source": [
    "In this example, the `divide()` function attempts to perform a division operation by dividing `a` by `b`. However, when `b` is 0, it raises a `ZeroDivisionError`. Since there is no `except` block to handle this specific exception, it propagates up to the top-level of the program. As a result, the program terminates abruptly without executing any subsequent code."
   ]
  },
  {
   "cell_type": "markdown",
   "id": "f9be279a-264a-4939-8173-68c4faa3dd4a",
   "metadata": {},
   "source": [
    "Ans to Q3. \n",
    "In Python, the try and except statements are used to catch and handle exceptions. The try block contains the code where exceptions may occur, and the except block is used to handle specific exceptions that may arise within the try block.\n",
    "Example:"
   ]
  },
  {
   "cell_type": "code",
   "execution_count": 1,
   "id": "6f1344b8-44be-43c8-a503-6d2f181ca78b",
   "metadata": {},
   "outputs": [
    {
     "name": "stdout",
     "output_type": "stream",
     "text": [
      "Oops! Division by zero error occurred.\n"
     ]
    }
   ],
   "source": [
    "try:\n",
    "    result = 10 / 0  # This will raise a ZeroDivisionError\n",
    "    print(\"Result:\", result)  # This line will not be executed\n",
    "except ZeroDivisionError:\n",
    "    print(\"Oops! Division by zero error occurred.\")\n"
   ]
  },
  {
   "cell_type": "markdown",
   "id": "e5ba1c8e-6315-4a4e-ab77-8272bfff459d",
   "metadata": {},
   "source": [
    "In this example, the try block contains the code where a division operation is performed (10 / 0). Since dividing by zero is not allowed in Python, it raises a ZeroDivisionError. The except block specifies the type of exception (ZeroDivisionError) that we want to handle. When the specified exception occurs within the try block, the corresponding except block is executed, and the program continues to run without crashing. In this case, the message \"Oops! Division by zero error occurred.\" will be printed to the console."
   ]
  },
  {
   "cell_type": "markdown",
   "id": "3ec9370c-b66a-4f88-95fa-cbfc75ac7e0c",
   "metadata": {},
   "source": [
    "Ans to Q4.\n",
    "Certainly! It seems like part of your message got jumbled up. Let me explain the try, except, else, and finally blocks in Python with an example:"
   ]
  },
  {
   "cell_type": "code",
   "execution_count": 6,
   "id": "d70b03a2-61db-460c-8281-62dd75b87c31",
   "metadata": {},
   "outputs": [
    {
     "name": "stdout",
     "output_type": "stream",
     "text": [
      "Division was successful. Result: 5.0\n",
      "Execution completed.\n"
     ]
    }
   ],
   "source": [
    "try:\n",
    "    # Code block where exceptions may occur\n",
    "    result = 10 / 2\n",
    "except ZeroDivisionError:\n",
    "    # This block will execute if a ZeroDivisionError occurs\n",
    "    print(\"Oops! Division by zero error occurred.\")\n",
    "else:\n",
    "    # This block will execute if no exception occurs in the try block\n",
    "    print(\"Division was successful. Result:\", result)\n",
    "finally:\n",
    "    # This block will always execute, regardless of whether an exception occurs or not\n",
    "    print(\"Execution completed.\")\n"
   ]
  },
  {
   "cell_type": "markdown",
   "id": "6238984f-c29b-46c9-b5b6-f31948216d93",
   "metadata": {},
   "source": [
    "In this example:\n",
    "\n",
    "The try block contains the code where a division operation is performed (10 / 2).\n",
    "The except block specifies the type of exception (ZeroDivisionError) that we want to handle.\n",
    "If no exception occurs within the try block, the else block is executed, which prints the result of the division.\n",
    "The finally block is executed regardless of whether an exception occurs or not. It is typically used to perform cleanup operations, such as closing files or releasing resources."
   ]
  },
  {
   "cell_type": "markdown",
   "id": "ab978a43-7b3d-41ea-9c9c-e857aa914fa3",
   "metadata": {},
   "source": [
    "This demonstrates the flow when no exception occurs. If there were an exception, the except block would execute instead of the else block, and then the finally block would execute."
   ]
  },
  {
   "cell_type": "markdown",
   "id": "08c06239-41dd-4abf-abfc-f98ae3eb3e3a",
   "metadata": {},
   "source": [
    "Ans to Q5.\n",
    "Custom exceptions in Python are user-defined exceptions that allow programmers to create their own exception classes tailored to specific error conditions in their applications. These exceptions extend the built-in Exception class or any other existing exception class provided by Python.\n",
    "\n",
    "We need custom exceptions to handle application-specific errors that are not covered by the built-in exceptions. By defining custom exceptions, we can provide more descriptive error messages and improve the clarity and maintainability of our code. Custom exceptions also allow for better organization and structure in handling different types of errors within a program.\n",
    "\n",
    "Example:\n",
    "\n",
    "Suppose we are developing a banking application, and we want to raise an exception when a withdrawal amount exceeds the account balance. We can define a custom exception class called InsufficientFundsError to handle this scenario:"
   ]
  },
  {
   "cell_type": "code",
   "execution_count": 7,
   "id": "721cb1e0-871a-4073-92fd-e32b40a333e0",
   "metadata": {},
   "outputs": [
    {
     "name": "stdout",
     "output_type": "stream",
     "text": [
      "Insufficient funds! Withdrawal amount of $1500 exceeds available balance of $1000\n"
     ]
    }
   ],
   "source": [
    "class InsufficientFundsError(Exception):\n",
    "    def __init__(self, amount, balance):\n",
    "        self.amount = amount\n",
    "        self.balance = balance\n",
    "\n",
    "    def __str__(self):\n",
    "        return f\"Insufficient funds! Withdrawal amount of ${self.amount} exceeds available balance of ${self.balance}\"\n",
    "\n",
    "class Account:\n",
    "    def __init__(self, balance):\n",
    "        self.balance = balance\n",
    "\n",
    "    def withdraw(self, amount):\n",
    "        if amount > self.balance:\n",
    "            raise InsufficientFundsError(amount, self.balance)\n",
    "        self.balance -= amount\n",
    "        return f\"Withdrawal of ${amount} successful. Remaining balance: ${self.balance}\"\n",
    "\n",
    "# Example usage\n",
    "account = Account(1000)\n",
    "try:\n",
    "    print(account.withdraw(1500))\n",
    "except InsufficientFundsError as e:\n",
    "    print(e)\n"
   ]
  },
  {
   "cell_type": "markdown",
   "id": "d2af76dc-a49b-45b3-9d23-89f6558e53ab",
   "metadata": {},
   "source": [
    "In this example:\n",
    "\n",
    "We define a custom exception class InsufficientFundsError, which inherits from the built-in Exception class.\n",
    "The __init__ method initializes the exception with the withdrawal amount and the current balance.\n",
    "The __str__ method returns a string representation of the exception with a descriptive error message.\n",
    "In the Account class, the withdraw method raises the InsufficientFundsError exception if the withdrawal amount exceeds the account balance.\n",
    "We handle the custom exception using a try-except block and print the error message when it occurs."
   ]
  },
  {
   "cell_type": "markdown",
   "id": "e2b04e89-503d-4181-9cbd-3ce61dc6719b",
   "metadata": {},
   "source": [
    "Ans to Q6.\n"
   ]
  },
  {
   "cell_type": "code",
   "execution_count": 8,
   "id": "55c264a8-b696-44e2-862b-ca585c94860e",
   "metadata": {},
   "outputs": [
    {
     "name": "stdout",
     "output_type": "stream",
     "text": [
      "Custom exception occurred: This is a custom exception.\n"
     ]
    }
   ],
   "source": [
    "class CustomException(Exception):\n",
    "    def __init__(self, message):\n",
    "        self.message = message\n",
    "\n",
    "# Example usage of custom exception\n",
    "try:\n",
    "    # Simulating an error condition\n",
    "    raise CustomException(\"This is a custom exception.\")\n",
    "except CustomException as e:\n",
    "    print(\"Custom exception occurred:\", e.message)\n"
   ]
  },
  {
   "cell_type": "markdown",
   "id": "20a1aabd-2f1c-49f7-b28a-963878788c42",
   "metadata": {},
   "source": [
    "In this example:\n",
    "\n",
    "We define a custom exception class CustomException that inherits from the built-in Exception class.\n",
    "The __init__ method initializes the exception with a custom error message.\n",
    "Inside the try block, we simulate an error condition by raising the CustomException with a message.\n",
    "The except block catches the CustomException and prints the custom error message associated with it."
   ]
  }
 ],
 "metadata": {
  "kernelspec": {
   "display_name": "Python 3 (ipykernel)",
   "language": "python",
   "name": "python3"
  },
  "language_info": {
   "codemirror_mode": {
    "name": "ipython",
    "version": 3
   },
   "file_extension": ".py",
   "mimetype": "text/x-python",
   "name": "python",
   "nbconvert_exporter": "python",
   "pygments_lexer": "ipython3",
   "version": "3.10.8"
  }
 },
 "nbformat": 4,
 "nbformat_minor": 5
}
