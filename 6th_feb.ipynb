{
 "cells": [
  {
   "cell_type": "markdown",
   "id": "944f7869-8143-4911-9c2b-e57f4f3acdf0",
   "metadata": {},
   "source": [
    "Q1. Create a function which will take a list as an argument and return the product of all the numbers\n",
    "after creating a flat list.\n",
    "Use the below-given list as an argument for your function.\n",
    "list1 = [1,2,3,4, [44,55,66, True], False, (34,56,78,89,34), {1,2,3,3,2,1}, {1:34, \"key2\": [55, 67, 78, 89], 4: (45,\n",
    "22, 61, 34)}, [56, 'data science'], 'Machine Learning']\n",
    "Note: you must extract numeric keys and values of the dictionary also."
   ]
  },
  {
   "cell_type": "code",
   "execution_count": 5,
   "id": "f95e76b2-db36-4718-aec2-db4210c4827a",
   "metadata": {},
   "outputs": [
    {
     "name": "stdout",
     "output_type": "stream",
     "text": [
      "4134711838987085478833841242112000\n"
     ]
    }
   ],
   "source": [
    "from functools import reduce\n",
    "def product_of_num(list2):\n",
    "    l1 = []\n",
    "    for i in list2:\n",
    "        if type(i) == int : l1.append(i)\n",
    "        elif type(i) == list :\n",
    "            for j in i : \n",
    "                if type(j) == int : l1.append(j)\n",
    "        elif type(i) == set :\n",
    "            for j in i : \n",
    "                if type(j) == int : l1.append(j)     \n",
    "        elif type(i) == tuple :\n",
    "            for j in i : \n",
    "                if type(j) == int : l1.append(j)  \n",
    "        elif type(i) == dict:\n",
    "            for j in i.keys(): \n",
    "                if type(j) == int : l1.append(j)\n",
    "                elif type(j) == list or type(j) == tuple or type(j) == set:\n",
    "                    for k in j : \n",
    "                        if type(k) == int : l1.append(k)\n",
    "            for j in i.values():\n",
    "                if type(j) == int : l1.append(j)\n",
    "                elif type(j) == list or type(j) == tuple or type(j) == set:\n",
    "                    for k in j : \n",
    "                        if type(k) == int : l1.append(k)\n",
    "    return reduce(lambda x,y : x*y, l1)\n",
    "list1 = [1,2,3,4, [44,55,66, True], False, (34,56,78,89,34), {1,2,3,3,2,1}, {1:34, \"key2\": [55, 67, 78, 89], 4: (45, 22, 61, 34)}, [56, 'data science'], 'Machine Learning']\n",
    "print(product_of_num(list1))"
   ]
  },
  {
   "cell_type": "markdown",
   "id": "1a7bae5d-8514-4808-87ba-40bf136d6206",
   "metadata": {},
   "source": [
    "Q2. Write a python program for encrypting a message sent to you by your friend. The logic of encryption\n",
    "should be such that, for a the output should be z. For b, the output should be y. For c, the output should\n",
    "be x respectively. Also, the whitespace should be replaced with a dollar sign. Keep the punctuation\n",
    "marks unchanged.\n",
    "Input Sentence: I want to become a Data Scientist.\n",
    "Encrypt the above input sentence using the program you just created.\n",
    "Note: Convert the given input sentence into lowercase before encrypting. The final output should be\n",
    "lowercase."
   ]
  },
  {
   "cell_type": "code",
   "execution_count": 7,
   "id": "22c6398d-e9a5-46ea-bfe1-3e3d9c997f77",
   "metadata": {},
   "outputs": [
    {
     "name": "stdin",
     "output_type": "stream",
     "text": [
      "Enter a message to encrypt  I want to become a Data Scientist.\n"
     ]
    },
    {
     "name": "stdout",
     "output_type": "stream",
     "text": [
      "r$dzmg$gl$yvxlnv$z$wzgz$hxrvmgrhg.\n"
     ]
    }
   ],
   "source": [
    "def Encrypt(message):\n",
    "    EnMs = ''\n",
    "    for i in message.lower():\n",
    "        if i == ' ' : EnMs += '$'\n",
    "        elif ord(i) < 97 : EnMs += i\n",
    "        elif ord(i)-97 < 122-ord(i):\n",
    "            EnMs += chr(122 - (ord(i)-97))\n",
    "        elif ord(i)-97 > 122-ord(i): \n",
    "            EnMs += chr(97 + (122-ord(i)))\n",
    "        else : pass \n",
    "    return EnMs\n",
    "msg = input(\"Enter a message to encrypt \")\n",
    "print(Encrypt(msg))"
   ]
  }
 ],
 "metadata": {
  "kernelspec": {
   "display_name": "Python 3 (ipykernel)",
   "language": "python",
   "name": "python3"
  },
  "language_info": {
   "codemirror_mode": {
    "name": "ipython",
    "version": 3
   },
   "file_extension": ".py",
   "mimetype": "text/x-python",
   "name": "python",
   "nbconvert_exporter": "python",
   "pygments_lexer": "ipython3",
   "version": "3.10.8"
  }
 },
 "nbformat": 4,
 "nbformat_minor": 5
}
