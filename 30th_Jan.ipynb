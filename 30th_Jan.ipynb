{
 "cells": [
  {
   "cell_type": "markdown",
   "id": "e1573268-fb6a-4940-b875-f290593aa87f",
   "metadata": {},
   "source": [
    "Assignment - 2\n",
    "\n",
    "Q1. Check Grade from Percentage"
   ]
  },
  {
   "cell_type": "code",
   "execution_count": 2,
   "id": "209b7f96-6343-46ce-a72e-016e77073cd9",
   "metadata": {},
   "outputs": [
    {
     "name": "stdin",
     "output_type": "stream",
     "text": [
      "Enter the marks in percentage for grading  76\n"
     ]
    },
    {
     "name": "stdout",
     "output_type": "stream",
     "text": [
      "The student obtained C grade\n"
     ]
    }
   ],
   "source": [
    "def CheckGrade(M):\n",
    "  if M > 90 : return 'A'\n",
    "  elif M > 80 : return 'B'\n",
    "  elif M >= 60 : return 'C'\n",
    "  else : return \"D\"\n",
    "mark_p = float (input(\"Enter the marks in percentage for grading \"))\n",
    "print(\"The student obtained\", CheckGrade(mark_p), \"grade\")"
   ]
  },
  {
   "cell_type": "markdown",
   "id": "08ec04d3-0427-44aa-94a1-6caa9a3ac4fe",
   "metadata": {},
   "source": [
    "Q2.RTO Tax Calculator"
   ]
  },
  {
   "cell_type": "code",
   "execution_count": 3,
   "id": "a11840e9-7237-4f15-b5b8-c379fc33725e",
   "metadata": {},
   "outputs": [
    {
     "name": "stdin",
     "output_type": "stream",
     "text": [
      "Enter the price of the bike  200000\n"
     ]
    },
    {
     "name": "stdout",
     "output_type": "stream",
     "text": [
      "Road Tax for your vehicle is 30000.0\n"
     ]
    }
   ],
   "source": [
    "def Tax(value):\n",
    "    if value > 100000 : return value * 0.15\n",
    "    elif value > 50000 : return value * 0.10\n",
    "    else : return value * 0.05\n",
    "Price = int(input(\"Enter the price of the bike \"))\n",
    "print(\"Road Tax for your vehicle is\", Tax(Price))"
   ]
  },
  {
   "cell_type": "markdown",
   "id": "ba8f7e6e-1c33-4db8-8516-f4758b192cd1",
   "metadata": {},
   "source": [
    "Q3.City Monuments"
   ]
  },
  {
   "cell_type": "code",
   "execution_count": 4,
   "id": "0b15ca93-8394-490c-b367-48a6e1cd713b",
   "metadata": {},
   "outputs": [
    {
     "name": "stdin",
     "output_type": "stream",
     "text": [
      "Enter name of the city  delhi\n"
     ]
    },
    {
     "name": "stdout",
     "output_type": "stream",
     "text": [
      "Red Fort\n"
     ]
    }
   ],
   "source": [
    "def Monument(city):\n",
    "    if city.lower() == 'delhi' : return 'Red Fort'\n",
    "    elif city.lower() == 'agra' : return \"Taj Mahal\"\n",
    "    elif city.lower() == 'jaipur' : return 'Jal Mahal'\n",
    "    else : return \"Invalid Input\"\n",
    "city = input(\"Enter name of the city \")\n",
    "print (Monument(city))"
   ]
  },
  {
   "cell_type": "markdown",
   "id": "a258546a-da21-4628-bb8a-f1df5d9019e0",
   "metadata": {},
   "source": [
    "Q4. Check how many times a number can be divided by 3 before it is less than or equal to 10"
   ]
  },
  {
   "cell_type": "code",
   "execution_count": 5,
   "id": "dbd87bab-a71e-43a2-8166-2737afc14c49",
   "metadata": {},
   "outputs": [
    {
     "name": "stdin",
     "output_type": "stream",
     "text": [
      "Enter a number  35\n"
     ]
    },
    {
     "name": "stdout",
     "output_type": "stream",
     "text": [
      "The number can be 2 times divided by 3\n"
     ]
    }
   ],
   "source": [
    "number = int (input(\"Enter a number \"))\n",
    "count = 0\n",
    "while (number > 10):\n",
    "    count += 1\n",
    "    number = number/3\n",
    "print(\"The number can be\", count, \"times divided by 3\")"
   ]
  }
 ],
 "metadata": {
  "kernelspec": {
   "display_name": "Python 3 (ipykernel)",
   "language": "python",
   "name": "python3"
  },
  "language_info": {
   "codemirror_mode": {
    "name": "ipython",
    "version": 3
   },
   "file_extension": ".py",
   "mimetype": "text/x-python",
   "name": "python",
   "nbconvert_exporter": "python",
   "pygments_lexer": "ipython3",
   "version": "3.10.8"
  }
 },
 "nbformat": 4,
 "nbformat_minor": 5
}
