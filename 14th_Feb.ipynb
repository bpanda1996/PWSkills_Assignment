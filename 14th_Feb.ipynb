{
 "cells": [
  {
   "cell_type": "markdown",
   "id": "775685a0-679b-4dda-be53-6a79ae473557",
   "metadata": {},
   "source": [
    "Ans to 1. Multithreading in Python refers to the ability of a program to execute multiple threads concurrently. Each thread represents a separate flow of execution within the same process. Multithreading is used to improve the performance of programs by utilizing the available CPU resources more efficiently, especially for I/O-bound and CPU-bound tasks. The module used to handle threads in Python is called threading."
   ]
  },
  {
   "cell_type": "markdown",
   "id": "2070c41b-d831-42f3-b095-b0f70fc12800",
   "metadata": {},
   "source": [
    "Ans to 2. The threading module is used to create and manage threads in Python.\n",
    "activeCount(): Returns the number of active threads currently running.\n",
    "currentThread(): Returns the current thread object.\n",
    "enumerate(): Returns a list of all Thread objects currently active."
   ]
  },
  {
   "cell_type": "markdown",
   "id": "59f9126f-4680-417f-b690-c322b2784100",
   "metadata": {},
   "source": [
    "Explanation of thread-related functions:\n",
    "run(): This method represents the entry point for the thread's activity. It should be overridden in a subclass.\n",
    "start(): This method starts the execution of the thread's run() method.\n",
    "join(): This method blocks the calling thread until the thread whose join() method is called terminates.\n",
    "isAlive(): This method returns True if the thread is alive and False otherwise."
   ]
  },
  {
   "cell_type": "markdown",
   "id": "6e5c6dc3-218b-491c-8cd6-0008617fd6cf",
   "metadata": {},
   "source": [
    "Ans to 4."
   ]
  },
  {
   "cell_type": "code",
   "execution_count": 1,
   "id": "739aa56e-4323-40dd-bfbc-cbe8d69ec6fc",
   "metadata": {},
   "outputs": [
    {
     "name": "stdout",
     "output_type": "stream",
     "text": [
      "Square of 1: 1\n",
      "Square of 2: 4\n",
      "Square of 3: 9\n",
      "Square of 4: 16\n",
      "Square of 5: 25\n",
      "Cube of 1: 1\n",
      "Cube of 2: 8\n",
      "Cube of 3: 27\n",
      "Cube of 4: 64\n",
      "Cube of 5: 125\n",
      "Main thread exiting.\n"
     ]
    }
   ],
   "source": [
    "import threading\n",
    "\n",
    "def print_squares():\n",
    "    for i in range(1, 6):\n",
    "        print(f\"Square of {i}: {i**2}\")\n",
    "\n",
    "def print_cubes():\n",
    "    for i in range(1, 6):\n",
    "        print(f\"Cube of {i}: {i**3}\")\n",
    "\n",
    "# Creating threads\n",
    "thread1 = threading.Thread(target=print_squares)\n",
    "thread2 = threading.Thread(target=print_cubes)\n",
    "\n",
    "# Starting threads\n",
    "thread1.start()\n",
    "thread2.start()\n",
    "\n",
    "# Waiting for threads to finish\n",
    "thread1.join()\n",
    "thread2.join()\n",
    "\n",
    "print(\"Main thread exiting.\")\n"
   ]
  },
  {
   "cell_type": "markdown",
   "id": "ad23afe5-a33f-4e9c-8ea5-7bebc820b0d8",
   "metadata": {},
   "source": [
    "Ans to 5.\n",
    "Advantages of multithreading:\n",
    "Improved performance by utilizing CPU resources more efficiently.\n",
    "Responsiveness in GUI applications, allowing the user interface to remain active while performing background tasks.\n",
    "Simplifies complex tasks by breaking them into smaller, more manageable threads.\n",
    "Disadvantages of multithreading:\n",
    "Increased complexity in programming and debugging due to concurrency issues such as race conditions and deadlocks.\n",
    "Overhead of managing multiple threads, which can lead to higher memory and CPU usage.\n",
    "Difficulty in ensuring thread safety, which may result in unpredictable behavior and bugs."
   ]
  },
  {
   "cell_type": "markdown",
   "id": "cff3dfc2-4b9e-42bd-afc5-5e73a968ebb4",
   "metadata": {},
   "source": [
    "Ans to 6.\n",
    "Deadlocks occur when two or more threads are blocked indefinitely, waiting for each other to release resources that they need. A race condition occurs when multiple threads access shared data and attempt to change it at the same time, leading to unpredictable results. Both deadlocks and race conditions are common concurrency issues that can occur in multithreaded programs and must be carefully managed to ensure proper synchronization and thread safety."
   ]
  }
 ],
 "metadata": {
  "kernelspec": {
   "display_name": "Python 3 (ipykernel)",
   "language": "python",
   "name": "python3"
  },
  "language_info": {
   "codemirror_mode": {
    "name": "ipython",
    "version": 3
   },
   "file_extension": ".py",
   "mimetype": "text/x-python",
   "name": "python",
   "nbconvert_exporter": "python",
   "pygments_lexer": "ipython3",
   "version": "3.10.8"
  }
 },
 "nbformat": 4,
 "nbformat_minor": 5
}
