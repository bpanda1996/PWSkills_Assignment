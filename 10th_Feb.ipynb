{
 "cells": [
  {
   "cell_type": "markdown",
   "id": "bb8f22c2-e31d-43f3-95d7-1393a070fdbb",
   "metadata": {},
   "source": [
    "Ans to Q1. "
   ]
  },
  {
   "cell_type": "markdown",
   "id": "8dc3840a-adf0-4db7-8d3a-af6dd8a75bb9",
   "metadata": {},
   "source": [
    "The function used to open a file in Python is open().\n",
    "\n",
    "Modes of opening a file:\n",
    "\n",
    "'r': Open file for reading. (default)\n",
    "'w': Open file for writing. Creates a new file or truncates existing file.\n",
    "'a': Open file for appending. Creates a new file if it does not exist.\n",
    "'b': Binary mode.\n",
    "'t': Text mode. (default)\n",
    "'+': Open a file for updating (reading and writing).\n",
    "Explanation:\n",
    "\n",
    "'r': Opens the file for reading. The file pointer is placed at the beginning of the file.\n",
    "'w': Opens the file for writing. If the file exists, it is truncated. If the file does not exist, a new file is created.\n",
    "'a': Opens the file for appending. The file pointer is placed at the end of the file. If the file does not exist, it creates a new file.\n",
    "'b': Opens the file in binary mode. This mode is used for non-text files, such as images or executables.\n",
    "'t': Opens the file in text mode. (default) This mode is used for text files.\n",
    "'+': Opens the file for both reading and writing."
   ]
  },
  {
   "cell_type": "markdown",
   "id": "0123fd43-e998-446d-9a62-bcd2f425474b",
   "metadata": {},
   "source": [
    "Ans to Q2. "
   ]
  },
  {
   "cell_type": "markdown",
   "id": "2a0be6d6-11fd-4c5a-94a7-f2408f16c2e3",
   "metadata": {},
   "source": [
    "The close() function is used to close a file that has been opened using the open() function. It is important to close a file after performing operations on it to release system resources and ensure that all data is written to the file."
   ]
  },
  {
   "cell_type": "markdown",
   "id": "131c661e-6b48-4177-b158-3f8abd781ef0",
   "metadata": {},
   "source": [
    "Ans to Q3. "
   ]
  },
  {
   "cell_type": "code",
   "execution_count": 1,
   "id": "aadb8921-9b70-4191-8810-9d5f0b4441f6",
   "metadata": {},
   "outputs": [
    {
     "name": "stdout",
     "output_type": "stream",
     "text": [
      "I want to become a Data Scientist\n"
     ]
    }
   ],
   "source": [
    "# Create a text file and write content\n",
    "file = open(\"data.txt\", \"w\")\n",
    "file.write(\"I want to become a Data Scientist\")\n",
    "file.close()\n",
    "\n",
    "# Open the file and read its content\n",
    "file = open(\"data.txt\", \"r\")\n",
    "content = file.read()\n",
    "file.close()\n",
    "\n",
    "print(content)\n"
   ]
  },
  {
   "cell_type": "markdown",
   "id": "35938016-ea0e-47b6-a5d0-f2cdc69bed8f",
   "metadata": {},
   "source": [
    "Ans to Q4. "
   ]
  },
  {
   "cell_type": "markdown",
   "id": "5373773e-9c35-435c-8770-35562dd3416c",
   "metadata": {},
   "source": [
    "read(): Reads the entire content of the file as a single string.\n",
    "readline(): Reads a single line from the file.\n",
    "readlines(): Reads all lines from the file and returns a list of strings, each representing one line.\n"
   ]
  },
  {
   "cell_type": "markdown",
   "id": "09893ee4-3c4f-423a-a5f9-1c79bb4da0ab",
   "metadata": {},
   "source": [
    "Ans to Q5."
   ]
  },
  {
   "cell_type": "markdown",
   "id": "23096fad-afa7-4bec-a895-768535fadeb7",
   "metadata": {},
   "source": [
    "The with statement is used with open() to ensure proper handling of file resources. It automatically closes the file when the block of code is exited, even if an exception occurs. The advantage is that it ensures the file is closed properly, making the code cleaner and less prone to errors. Example-"
   ]
  },
  {
   "cell_type": "code",
   "execution_count": 2,
   "id": "64a07d1b-e177-4932-8794-c91e1e0f5483",
   "metadata": {},
   "outputs": [
    {
     "name": "stdout",
     "output_type": "stream",
     "text": [
      "I want to become a Data Scientist\n"
     ]
    }
   ],
   "source": [
    "with open(\"data.txt\", \"r\") as file:\n",
    "    content = file.read()\n",
    "print(content)"
   ]
  },
  {
   "cell_type": "markdown",
   "id": "5bf83c97-aa31-482d-885e-6071243f0859",
   "metadata": {},
   "source": [
    "Ans to Q6. "
   ]
  },
  {
   "cell_type": "markdown",
   "id": "05797c0b-03d3-4c37-b1c4-74e7b651b68c",
   "metadata": {},
   "source": [
    "write(): Writes the specified string to the file.\n",
    "writelines(): Writes a sequence of strings to the file.\n",
    "Example-"
   ]
  },
  {
   "cell_type": "code",
   "execution_count": 3,
   "id": "536d67a6-b8a4-4866-8b34-af34f3c631fa",
   "metadata": {},
   "outputs": [],
   "source": [
    "# Using write()\n",
    "with open(\"output.txt\", \"w\") as file:\n",
    "    file.write(\"Hello, world!\\n\")\n",
    "    file.write(\"This is a Python program.\\n\")\n",
    "\n",
    "# Using writelines()\n",
    "lines = [\"Line 1\\n\", \"Line 2\\n\", \"Line 3\\n\"]\n",
    "with open(\"output.txt\", \"w\") as file:\n",
    "    file.writelines(lines)"
   ]
  }
 ],
 "metadata": {
  "kernelspec": {
   "display_name": "Python 3 (ipykernel)",
   "language": "python",
   "name": "python3"
  },
  "language_info": {
   "codemirror_mode": {
    "name": "ipython",
    "version": 3
   },
   "file_extension": ".py",
   "mimetype": "text/x-python",
   "name": "python",
   "nbconvert_exporter": "python",
   "pygments_lexer": "ipython3",
   "version": "3.10.8"
  }
 },
 "nbformat": 4,
 "nbformat_minor": 5
}
