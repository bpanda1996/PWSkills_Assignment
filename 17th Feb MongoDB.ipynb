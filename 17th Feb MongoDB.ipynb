{
 "cells": [
  {
   "cell_type": "markdown",
   "id": "00d5328c-10e6-4f4b-be4f-abd600682da3",
   "metadata": {},
   "source": [
    "Ans to Q1. \n",
    "MongoDB: MongoDB is a popular, open-source, document-oriented NoSQL database. It stores data in flexible, JSON-like documents, which allows for a more dynamic and scalable approach to handling data compared to traditional relational databases.\n",
    "\n",
    "Non-Relational Databases: Non-relational databases, or NoSQL databases, are designed to handle unstructured or semi-structured data and provide flexible schema design. Unlike SQL databases, they do not require predefined schemas and can store data in various formats, including documents, key-value pairs, wide-column stores, and graph databases.\n",
    "\n",
    "Scenarios to Use MongoDB over SQL Databases:\n",
    "\n",
    "Flexible Schema Design: When the data model needs frequent changes or is not well-defined in advance.\n",
    "Horizontal Scalability: When the application requires scaling out by distributing data across multiple servers.\n",
    "High Write Loads: When the application needs to handle high-volume write operations efficiently.\n",
    "Unstructured Data: When the data includes diverse and complex types, such as documents, images, and JSON data.\n",
    "Rapid Development: When the development process needs to be agile, with frequent iterations and schema changes."
   ]
  },
  {
   "cell_type": "markdown",
   "id": "f852dee3-b1c1-4feb-9f6f-c0e8594b732f",
   "metadata": {},
   "source": [
    "Ans to Q2. \n",
    "Document-Oriented Storage: Stores data in JSON-like documents, making it flexible and easy to use.\n",
    "Schema Flexibility: Allows dynamic schema design, enabling developers to alter the structure of documents without downtime.\n",
    "Scalability: Supports horizontal scaling through sharding, distributing data across multiple servers.\n",
    "Replication: Provides high availability and redundancy with replica sets.\n",
    "High Performance: Optimized for read and write operations with indexes and in-memory storage.\n",
    "Aggregation Framework: Offers powerful query capabilities for data processing and transformation.\n",
    "Indexing: Supports various types of indexes to improve query performance.\n",
    "Rich Query Language: Allows complex queries, including geospatial and text search.\n",
    "Ad Hoc Queries: Facilitates real-time queries without predefined schema constraints.\n",
    "Load Balancing: Distributes read and write operations across multiple nodes for improved performance and reliability."
   ]
  },
  {
   "cell_type": "markdown",
   "id": "3c8207dc-54cc-4358-85e6-1177cb58fefc",
   "metadata": {},
   "source": [
    "Ans to Q3."
   ]
  },
  {
   "cell_type": "code",
   "execution_count": null,
   "id": "3d4b4932-e4a3-43f7-9f6a-4e7f488605ef",
   "metadata": {},
   "outputs": [],
   "source": [
    "from pymongo import MongoClient\n",
    "\n",
    "# Connect to MongoDB\n",
    "client = MongoClient(\"mongodb://localhost:27017/\")\n",
    "\n",
    "# Create a database\n",
    "db = client[\"mydatabase\"]\n",
    "\n",
    "# Create a collection\n",
    "collection = db[\"mycollection\"]\n",
    "\n",
    "print(\"Database and collection created successfully.\")"
   ]
  },
  {
   "cell_type": "markdown",
   "id": "a8215ab8-2eb0-4392-954d-4794e1a8578b",
   "metadata": {},
   "source": [
    "Ans to Q4."
   ]
  },
  {
   "cell_type": "code",
   "execution_count": null,
   "id": "f35e8270-a13f-4983-bbb2-f7b26fe2c374",
   "metadata": {},
   "outputs": [],
   "source": [
    "# Insert one record\n",
    "record = {\"name\": \"Alice\", \"age\": 25, \"city\": \"New York\"}\n",
    "collection.insert_one(record)\n",
    "\n",
    "# Insert many records\n",
    "records = [\n",
    "    {\"name\": \"Bob\", \"age\": 30, \"city\": \"San Francisco\"},\n",
    "    {\"name\": \"Charlie\", \"age\": 35, \"city\": \"Los Angeles\"},\n",
    "    {\"name\": \"David\", \"age\": 40, \"city\": \"Chicago\"}\n",
    "]\n",
    "collection.insert_many(records)\n",
    "\n",
    "# Find one record\n",
    "print(\"One record:\", collection.find_one({\"name\": \"Alice\"}))\n",
    "\n",
    "# Find all records\n",
    "print(\"All records:\")\n",
    "for rec in collection.find():\n",
    "    print(rec)"
   ]
  },
  {
   "cell_type": "markdown",
   "id": "7dbdf7ab-808b-4d5d-844f-d85ad4c9cfa9",
   "metadata": {},
   "source": [
    "Ans to Q5. \n",
    "The find() method retrieves documents from a collection that match a specified query. It returns a cursor object that can be iterated to access the results."
   ]
  },
  {
   "cell_type": "code",
   "execution_count": null,
   "id": "d5defd9e-b67e-4017-ba6c-14b911ada03c",
   "metadata": {},
   "outputs": [],
   "source": [
    "# Query to find records where age is greater than 30\n",
    "query = {\"age\": {\"$gt\": 30}}\n",
    "\n",
    "# Use find() method\n",
    "results = collection.find(query)\n",
    "\n",
    "# Print the results\n",
    "print(\"Query results:\")\n",
    "for result in results:\n",
    "    print(result)\n"
   ]
  },
  {
   "cell_type": "markdown",
   "id": "3027e12e-2ea8-41f6-bac2-eabfb217e777",
   "metadata": {},
   "source": [
    "Ans to Q6. \n",
    "The sort() method sorts the documents in the result set based on the specified fields and order. It takes a dictionary or list of tuples defining the sort order."
   ]
  },
  {
   "cell_type": "code",
   "execution_count": null,
   "id": "0c9c29ec-8076-4c70-9aeb-52fd7af1377d",
   "metadata": {},
   "outputs": [],
   "source": [
    "# Sort records by age in ascending order\n",
    "sorted_results = collection.find().sort(\"age\", 1)\n",
    "\n",
    "# Print sorted results\n",
    "print(\"Sorted results by age (ascending):\")\n",
    "for result in sorted_results:\n",
    "    print(result)\n"
   ]
  },
  {
   "cell_type": "markdown",
   "id": "94a7adf6-4484-46d3-99a5-53aa97c68363",
   "metadata": {},
   "source": [
    "Ans to Q7.\n",
    "delete_one(): Removes the first document that matches the filter criteria.\n",
    "delete_many(): Removes all documents that match the filter criteria.\n",
    "drop(): Deletes the entire collection and all its documents.\n",
    "\n",
    "These methods are used to manage and clean up data in the database, ensuring that outdated or irrelevant documents are removed as needed."
   ]
  }
 ],
 "metadata": {
  "kernelspec": {
   "display_name": "Python 3 (ipykernel)",
   "language": "python",
   "name": "python3"
  },
  "language_info": {
   "codemirror_mode": {
    "name": "ipython",
    "version": 3
   },
   "file_extension": ".py",
   "mimetype": "text/x-python",
   "name": "python",
   "nbconvert_exporter": "python",
   "pygments_lexer": "ipython3",
   "version": "3.10.8"
  }
 },
 "nbformat": 4,
 "nbformat_minor": 5
}
