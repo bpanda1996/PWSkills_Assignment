{
 "cells": [
  {
   "cell_type": "markdown",
   "id": "f1d0653d-fed8-4ccb-9e30-e3d69ca9323a",
   "metadata": {},
   "source": [
    "Q1, Create a vehicle class with an init method having instance variables as name_of_vehicle, max_speed\n",
    "and average_of_vehicle."
   ]
  },
  {
   "cell_type": "code",
   "execution_count": 1,
   "id": "ae23ac3a-476f-40cd-9b2c-7627228a7740",
   "metadata": {},
   "outputs": [],
   "source": [
    "class Vehicle:\n",
    "    def __init__(self, name_of_vehicle, max_speed, average_of_vehicle):\n",
    "        self.name_of_vehicle = name_of_vehicle\n",
    "        self.max_speed = max_speed\n",
    "        self.average_of_vehicle = average_of_vehicle"
   ]
  },
  {
   "cell_type": "markdown",
   "id": "3348028e-0479-49f2-9c8e-df6b35df5c2b",
   "metadata": {},
   "source": [
    "Q2. Create a child class car from the vehicle class created in Que 1, which will inherit the vehicle class.\n",
    "Create a method named seating_capacity which takes capacity as an argument and returns the name of\n",
    "the vehicle and its seating capacity."
   ]
  },
  {
   "cell_type": "code",
   "execution_count": 3,
   "id": "490731ba-251a-4b2a-9ea9-e8da863d2d6c",
   "metadata": {},
   "outputs": [
    {
     "name": "stdout",
     "output_type": "stream",
     "text": [
      "The Toyota Camry has a seating capacity of 5.\n"
     ]
    }
   ],
   "source": [
    "class Car(Vehicle):\n",
    "    def seating_capacity(self, capacity):\n",
    "        return f\"The {self.name_of_vehicle} has a seating capacity of {capacity}.\"\n",
    "# Example usage:\n",
    "car1 = Car(\"Toyota Camry\", 180, 25)\n",
    "print(car1.seating_capacity(5))"
   ]
  },
  {
   "cell_type": "markdown",
   "id": "ce46a40c-b49b-4a17-b580-e8fa09e61e2c",
   "metadata": {},
   "source": [
    "Q3. What is multiple inheritance? Write a python code to demonstrate multiple inheritance."
   ]
  },
  {
   "cell_type": "markdown",
   "id": "ecbf634a-dd7c-4ec7-9b85-9e5b6604a30c",
   "metadata": {},
   "source": [
    "Ans. Multiple inheritance refers to a feature in some object-oriented programming languages where a class can inherit attributes and methods from more than one parent class. \n",
    "In Python, a subclass can inherit from multiple parent classes. Example-"
   ]
  },
  {
   "cell_type": "code",
   "execution_count": 4,
   "id": "b82e4b64-2b1e-4c63-b463-c2aa7541569a",
   "metadata": {},
   "outputs": [
    {
     "name": "stdout",
     "output_type": "stream",
     "text": [
      "Method 1 from Class1\n",
      "Method 2 from Class2\n",
      "Method 3 from MultiDerived\n"
     ]
    }
   ],
   "source": [
    "class Class1:\n",
    "    def method1(self):\n",
    "        print(\"Method 1 from Class1\")\n",
    "\n",
    "class Class2:\n",
    "    def method2(self):\n",
    "        print(\"Method 2 from Class2\")\n",
    "\n",
    "class MultiDerived(Class1, Class2):\n",
    "    def method3(self):\n",
    "        print(\"Method 3 from MultiDerived\")\n",
    "\n",
    "# Creating an instance of MultiDerived\n",
    "obj = MultiDerived()\n",
    "\n",
    "# Accessing methods from both parent classes\n",
    "obj.method1() \n",
    "obj.method2()  \n",
    "obj.method3()  "
   ]
  },
  {
   "cell_type": "code",
   "execution_count": null,
   "id": "016bff79-dff2-4e48-b682-a9726a916c14",
   "metadata": {},
   "outputs": [],
   "source": [
    "Q4. What are getter and setter in python? Create a class and create a getter and a setter method in this\n",
    "class."
   ]
  },
  {
   "cell_type": "markdown",
   "id": "8c927875-e343-474f-8963-d3ebbdcab241",
   "metadata": {},
   "source": [
    "Getter and setter methods are used to get and set the values of instance variables in a class respectively. \n",
    "They are used to ensure controlled access to class attributes."
   ]
  },
  {
   "cell_type": "code",
   "execution_count": 5,
   "id": "f7716a77-1e9e-45f3-8320-cb8c216a3923",
   "metadata": {},
   "outputs": [
    {
     "name": "stdout",
     "output_type": "stream",
     "text": [
      "5\n"
     ]
    }
   ],
   "source": [
    "class Example:\n",
    "    def __init__(self):\n",
    "        self._value = None\n",
    "\n",
    "    def get_value(self):\n",
    "        return self._value\n",
    "\n",
    "    def set_value(self, value):\n",
    "        self._value = value\n",
    "\n",
    "# Example usage:\n",
    "obj = Example()\n",
    "obj.set_value(5)\n",
    "print(obj.get_value()) "
   ]
  },
  {
   "cell_type": "markdown",
   "id": "7740dbb5-957c-4876-8945-962f4e8f8758",
   "metadata": {},
   "source": [
    "Q5.What is method overriding in python? Write a python code to demonstrate method overriding."
   ]
  },
  {
   "cell_type": "markdown",
   "id": "d1e02b6e-1b8d-433c-a6d0-c4d99ef5862a",
   "metadata": {},
   "source": [
    "Method overriding occurs when a subclass provides a specific implementation of a method that is already defined in its superclass. \n",
    "Here's an example:"
   ]
  },
  {
   "cell_type": "code",
   "execution_count": 6,
   "id": "4914bf51-caea-4670-8484-aa6cc4b5b02f",
   "metadata": {},
   "outputs": [
    {
     "name": "stdout",
     "output_type": "stream",
     "text": [
      "Parent's show method\n",
      "Child's show method\n"
     ]
    }
   ],
   "source": [
    "class Parent:\n",
    "    def show(self):\n",
    "        print(\"Parent's show method\")\n",
    "\n",
    "class Child(Parent):\n",
    "    def show(self):\n",
    "        print(\"Child's show method\")\n",
    "\n",
    "parent_obj = Parent()\n",
    "child_obj = Child()\n",
    "\n",
    "parent_obj.show()  # Output: \"Parent's show method\"\n",
    "child_obj.show()   # Output: \"Child's show method\"\n",
    "\n",
    "#In this example, the show() method in the Child class overrides the show() method in the Parent class. \n",
    "#When called on instances of each class, they execute the respective implementations."
   ]
  }
 ],
 "metadata": {
  "kernelspec": {
   "display_name": "Python 3 (ipykernel)",
   "language": "python",
   "name": "python3"
  },
  "language_info": {
   "codemirror_mode": {
    "name": "ipython",
    "version": 3
   },
   "file_extension": ".py",
   "mimetype": "text/x-python",
   "name": "python",
   "nbconvert_exporter": "python",
   "pygments_lexer": "ipython3",
   "version": "3.10.8"
  }
 },
 "nbformat": 4,
 "nbformat_minor": 5
}
