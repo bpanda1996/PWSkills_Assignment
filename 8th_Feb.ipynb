{
 "cells": [
  {
   "cell_type": "markdown",
   "id": "46b93bc3-fbbe-4b93-9238-9d0f899f9edc",
   "metadata": {},
   "source": [
    "Ans to Q1. Abstraction in OOPs refers to the concept of hiding the complex implementation details and showing only the essential features of an object. \n",
    "It allows us to focus on what an object does rather than how it does it. For example, consider a Car class. From the perspective of a user, \n",
    "they only need to know how to drive the car, i.e., they interact with the car's methods like start(), stop(), accelerate(), etc., \n",
    "without needing to understand the internal workings of the engine, transmission, or braking system."
   ]
  },
  {
   "cell_type": "markdown",
   "id": "ef670678-067b-4673-81b5-1af6537099af",
   "metadata": {},
   "source": [
    "Ans to Q2. Abstraction and Encapsulation are two different concepts in OOPs but often confused with each other. \n",
    "Abstraction: It focuses on the outside view of an object, hiding the implementation details and showing only the necessary features.  For example, a Car class may provide methods like start() and stop() without revealing how these methods are implemented internally. \n",
    "Encapsulation: It involves bundling the data (attributes) and methods (behaviors) that operate on the data into a single unit (class), and restricting access to some of the object's components. It protects the internal state of an object from being directly accessed from outside the class. \n",
    "For example, in a Car class, you may encapsulate the speed attribute and provide getter and setter methods to access and modify it, respectively.\n",
    "Example:"
   ]
  },
  {
   "cell_type": "code",
   "execution_count": null,
   "id": "4141aae5-5f91-45b3-b9fd-91bd619b3bf1",
   "metadata": {},
   "outputs": [],
   "source": [
    "class Car:\n",
    "  def __init__(self):\n",
    "      self.__speed = 0  # Encapsulation: speed attribute is private\n",
    "\n",
    "  def accelerate(self):\n",
    "      self.__speed += 10\n",
    "\n",
    "  def get_speed(self):\n",
    "      return self.__speed  \n",
    "# Encapsulation: getter method to access speed"
   ]
  },
  {
   "cell_type": "markdown",
   "id": "b99f5cc3-3bcc-4aee-9178-4b760578557c",
   "metadata": {},
   "source": [
    "Ans to Q3. The abc module in Python stands for \"Abstract Base Classes.\" It provides tools for creating abstract base classes. \n",
    "An abstract base class is a kind of blueprint for other classes and cannot be instantiated itself. It is used to define a common interface for its subclasses.\n",
    "\n",
    "Ans to Q4. Data abstraction in OOP refers to the process of hiding the implementation details of data and showing only the necessary features to the user. \n",
    "It can be achieved in Python using classes and methods. By defining methods to manipulate data and hiding the internal implementation details, we can achieve data abstraction.\n",
    "\n",
    "Ans to Q5. No, we cannot create an instance of an abstract class in Python. Abstract classes are meant to be subclassed, and they typically contain one or more abstract \n",
    "methods that must be implemented by concrete subclasses. Attempting to create an instance of an abstract class directly will result in a TypeError. \n",
    "Abstract classes are designed to provide a blueprint for other classes and are not intended to be instantiated themselves."
   ]
  }
 ],
 "metadata": {
  "kernelspec": {
   "display_name": "Python 3 (ipykernel)",
   "language": "python",
   "name": "python3"
  },
  "language_info": {
   "codemirror_mode": {
    "name": "ipython",
    "version": 3
   },
   "file_extension": ".py",
   "mimetype": "text/x-python",
   "name": "python",
   "nbconvert_exporter": "python",
   "pygments_lexer": "ipython3",
   "version": "3.10.8"
  }
 },
 "nbformat": 4,
 "nbformat_minor": 5
}
