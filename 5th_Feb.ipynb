{
 "cells": [
  {
   "cell_type": "markdown",
   "id": "5f94ffb3-cd2b-456f-9ea5-b56edf2577bf",
   "metadata": {},
   "source": [
    "Q1. Explain Class and Object with respect to Object-Oriented Programming. Give a suitable example.\n",
    "Ans. In Object-Oriented Programming (OOP), a class is a blueprint for creating objects. It defines the properties (attributes) and behaviors (methods) that objects of that class will have. An object, on the other hand, is an instance of a class. It is a tangible entity that exists in memory and can interact with other objects and the environment. \n",
    "Example:"
   ]
  },
  {
   "cell_type": "code",
   "execution_count": 1,
   "id": "a624ad2d-c96c-490f-95f7-034461821c28",
   "metadata": {},
   "outputs": [
    {
     "name": "stdout",
     "output_type": "stream",
     "text": [
      "Toyota\n",
      "Driving the Honda Accord\n"
     ]
    }
   ],
   "source": [
    "class Car:\n",
    "    def __init__(self, brand, model):\n",
    "        self.brand = brand\n",
    "        self.model = model\n",
    "\n",
    "    def drive(self):\n",
    "        print(f\"Driving the {self.brand} {self.model}\")\n",
    "\n",
    "# Creating objects of the Car class\n",
    "car1 = Car(\"Toyota\", \"Camry\")\n",
    "car2 = Car(\"Honda\", \"Accord\")\n",
    "\n",
    "# Accessing object properties and calling methods\n",
    "print(car1.brand)  # Output: Toyota\n",
    "car2.drive()       # Output: Driving the Honda Accord"
   ]
  },
  {
   "cell_type": "markdown",
   "id": "ad64fa3f-14d9-4617-87dd-7d26c854f63d",
   "metadata": {},
   "source": [
    "Q2. Name the four pillars of OOPs.\n",
    "Ans. The four pillars of OOPs are:\n",
    "   1. Encapsulation\n",
    "   2. Abstraction\n",
    "   3. Inheritance\n",
    "   4. Polymorphism"
   ]
  },
  {
   "cell_type": "markdown",
   "id": "1ee6dcda-5fab-42b7-bfe5-47e5c920386c",
   "metadata": {},
   "source": [
    "Q3. Explain why the __init__() function is used. Give a suitable example.\n",
    "Ans. Q3. The `__init__()` function is a special method in Python classes used for initializing objects. \n",
    "It is called automatically when a new instance of the class is created. The purpose of `__init__()` is to initialize the object's attributes with initial values.\n",
    "Example:"
   ]
  },
  {
   "cell_type": "code",
   "execution_count": 2,
   "id": "82d3bb3c-345b-4e9c-b5c3-7ba5ffacd0f2",
   "metadata": {},
   "outputs": [
    {
     "name": "stdout",
     "output_type": "stream",
     "text": [
      "John\n",
      "30\n"
     ]
    }
   ],
   "source": [
    "class Person:\n",
    "    def __init__(self, name, age):\n",
    "        self.name = name\n",
    "        self.age = age\n",
    "\n",
    "# Creating an object of the Person class\n",
    "person1 = Person(\"John\", 30)\n",
    "\n",
    "print(person1.name)  # Output: John\n",
    "print(person1.age)   # Output: 30"
   ]
  },
  {
   "cell_type": "markdown",
   "id": "58167ba8-ad10-4ddb-b04f-72ff96ddb9b1",
   "metadata": {},
   "source": [
    "Q4. Why self is used in OOPs?\n",
    "Ans. In OOPs, `self` is used to refer to the current instance of a class. It is a convention in Python to use `self` as the first parameter of instance methods. When calling methods or accessing attributes within a class, `self` is used to differentiate between instance variables and local variables."
   ]
  },
  {
   "cell_type": "markdown",
   "id": "f813c0be-67c5-40c4-9cf5-e6720ce5aa12",
   "metadata": {},
   "source": [
    "Q5. Inheritance is a mechanism in OOP where a new class (subclass) is created based on an existing class (superclass). The subclass inherits the attributes and methods of the superclass and can also have its own additional attributes and methods.\n",
    "Example:"
   ]
  },
  {
   "cell_type": "code",
   "execution_count": 3,
   "id": "f6a87cc5-3dae-4cd3-9fbb-584596d44f48",
   "metadata": {},
   "outputs": [],
   "source": [
    "# Single Inheritance\n",
    "class Animal:\n",
    "    def sound(self):\n",
    "        print(\"Animal makes a sound\")\n",
    "\n",
    "class Dog(Animal):\n",
    "    def sound(self):\n",
    "        print(\"Dog barks\")\n",
    "\n",
    "# Multilevel Inheritance\n",
    "class A:\n",
    "    def method_A(self):\n",
    "        print(\"Method A\")\n",
    "\n",
    "class B(A):\n",
    "    def method_B(self):\n",
    "        print(\"Method B\")\n",
    "\n",
    "class C(B):\n",
    "    def method_C(self):\n",
    "        print(\"Method C\")\n",
    "\n",
    "# Hierarchical Inheritance\n",
    "class Parent:\n",
    "    def parent_method(self):\n",
    "        print(\"Parent method\")\n",
    "\n",
    "class Child1(Parent):\n",
    "    def child1_method(self):\n",
    "        print(\"Child 1 method\")\n",
    "\n",
    "class Child2(Parent):\n",
    "    def child2_method(self):\n",
    "        print(\"Child 2 method\")"
   ]
  }
 ],
 "metadata": {
  "kernelspec": {
   "display_name": "Python 3 (ipykernel)",
   "language": "python",
   "name": "python3"
  },
  "language_info": {
   "codemirror_mode": {
    "name": "ipython",
    "version": 3
   },
   "file_extension": ".py",
   "mimetype": "text/x-python",
   "name": "python",
   "nbconvert_exporter": "python",
   "pygments_lexer": "ipython3",
   "version": "3.10.8"
  }
 },
 "nbformat": 4,
 "nbformat_minor": 5
}
